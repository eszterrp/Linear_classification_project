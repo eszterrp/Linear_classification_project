{
 "cells": [
  {
   "cell_type": "markdown",
   "id": "dfb6281b",
   "metadata": {},
   "source": [
    "# \"APPENDIX\""
   ]
  },
  {
   "cell_type": "markdown",
   "id": "7592fef0",
   "metadata": {},
   "source": [
    "In this notebook you'll find some additional techniques that I tried in order to improve my prediction results for mainly multiclass classification part. "
   ]
  },
  {
   "cell_type": "markdown",
   "id": "15697a99",
   "metadata": {},
   "source": [
    "## Import necessary packages and prepare dataset "
   ]
  },
  {
   "cell_type": "code",
   "execution_count": 1,
   "id": "1e2a22f7",
   "metadata": {},
   "outputs": [],
   "source": [
    "#### IMPORT PACKAGES ####\n",
    "\n",
    "# basic packages\n",
    "import os\n",
    "import pandas as pd\n",
    "import numpy as np\n",
    "from matplotlib import pyplot\n",
    "from collections import Counter\n",
    "\n",
    "# preprocessing data\n",
    "from sklearn.preprocessing import MinMaxScaler\n",
    "from sklearn.preprocessing import PolynomialFeatures\n",
    "from sklearn.datasets import make_blobs\n",
    "\n",
    "# model\n",
    "from sklearn.linear_model import LogisticRegression\n",
    "\n",
    "# resampling\n",
    "from imblearn.over_sampling import RandomOverSampler\n",
    "from imblearn.under_sampling import RandomUnderSampler\n",
    "from imblearn.combine import SMOTETomek \n",
    "import imblearn\n",
    "\n",
    "\n",
    "# model evaluation\n",
    "from sklearn import metrics\n",
    "from sklearn.model_selection import cross_val_score\n",
    "from sklearn.model_selection import RepeatedStratifiedKFold\n",
    "from sklearn.neighbors import KNeighborsClassifier\n",
    "from sklearn.metrics import accuracy_score\n",
    "from sklearn.model_selection import GridSearchCV\n",
    "\n",
    "# set working dir\n",
    "os.chdir(\"/Users/pazma/Documents/BSE/cml/\")\n",
    "\n",
    "# import my functions that I created for this project from my_functions.ipynb\n",
    "# from ipynb.fs.full.linclass_my_functions import *  \n",
    "%run linclass_my_functions.ipynb \n",
    "\n",
    "# import the helper_utils function\n",
    "# (Jack's pre-prepared functions)\n",
    "import sys,inspect\n",
    "currentdir = os.path.dirname(os.path.abspath(inspect.getfile(inspect.currentframe())))\n",
    "parentdir = os.path.dirname(os.path.dirname(currentdir))\n",
    "sys.path.insert(1, parentdir)\n",
    "from helper_functions import *"
   ]
  },
  {
   "cell_type": "code",
   "execution_count": 2,
   "id": "b134379e",
   "metadata": {},
   "outputs": [],
   "source": [
    "# Read data\n",
    "raw_train=pd.read_csv(\"forest-cover-classification/MultiClass_Train.csv\")\n",
    "raw_test=pd.read_csv(\"forest-cover-classification/MultiClass_Test.csv\")"
   ]
  },
  {
   "cell_type": "code",
   "execution_count": 3,
   "id": "e16fbb0c",
   "metadata": {},
   "outputs": [
    {
     "data": {
      "text/plain": [
       "((13073, 13), (61006, 14))"
      ]
     },
     "execution_count": 3,
     "metadata": {},
     "output_type": "execute_result"
    }
   ],
   "source": [
    "raw_test.shape, raw_train.shape"
   ]
  },
  {
   "cell_type": "code",
   "execution_count": 4,
   "id": "381dffce",
   "metadata": {},
   "outputs": [],
   "source": [
    "# Recreate dummies for train and test data without Cover Type dummies \n",
    "train_data=get_dummies(raw_train, [\"Wilderness_Area\", \"Soil_Type\"]) \n",
    "test_data=get_dummies(raw_test, [\"Wilderness_Area\", \"Soil_Type\"])\n",
    "\n"
   ]
  },
  {
   "cell_type": "code",
   "execution_count": 5,
   "id": "4dbf0c12",
   "metadata": {},
   "outputs": [],
   "source": [
    "# Use the square of Elevation variable\n",
    "# Add interaction terms of Elevation (Elevation and Elevation squared) with Soil Type\n",
    "train_v2=train_data.copy()\n",
    "train_v2[\"Elevation_sq\"]=train_v2[\"Elevation\"]**2\n",
    "\n",
    "soil_type_columns=[x for x in list(train_data.columns) if x.startswith(\"Soil_Type\")]\n",
    "\n",
    "# Interact them\n",
    "for c in soil_type_columns:\n",
    "    train_v2[\"Elevation_\"+c]=train_v2[\"Elevation\"]*train_v2[c]\n",
    "    train_v2[\"Elevation_sq_\"+c]=train_v2[\"Elevation_sq\"]*train_v2[c]\n",
    "\n",
    "# do the same for the test data\n",
    "test_data_2=test_data.drop(columns=\"Index\")\n",
    "test_data_2[\"Elevation_sq\"]=test_data_2[\"Elevation\"]**2\n",
    "\n",
    "for c in soil_type_columns:\n",
    "    test_data_2[\"Elevation_\"+c]=test_data_2[\"Elevation\"]*test_data_2[c]\n",
    "    test_data_2[\"Elevation_sq_\"+c]=test_data_2[\"Elevation_sq\"]*test_data_2[c]\n",
    "\n",
    "\n"
   ]
  },
  {
   "cell_type": "code",
   "execution_count": 6,
   "id": "d6036e81",
   "metadata": {},
   "outputs": [],
   "source": [
    "# remove Index column \n",
    "train_v2=train_v2.drop(columns=\"Index\")\n",
    "X_test=test_data_2.values"
   ]
  },
  {
   "cell_type": "code",
   "execution_count": 7,
   "id": "fee11792",
   "metadata": {},
   "outputs": [],
   "source": [
    "# create X_train, y, X_test\n",
    "X_multi=train_v2.drop(columns=\"Cover_Type\")\n",
    "y_multi=train_v2.Cover_Type\n",
    "X_test_multi=test_data_2"
   ]
  },
  {
   "cell_type": "code",
   "execution_count": 8,
   "id": "257065c9",
   "metadata": {},
   "outputs": [],
   "source": [
    "# rescale \n",
    "scaler_multi = MinMaxScaler(feature_range = (0,1))\n",
    "\n",
    "scaler_multi.fit(X_multi)\n",
    "X_multi_scaled = scaler_multi.transform(X_multi)\n",
    "\n",
    "X_test_multi_scaled = scaler_multi.transform(X_test_multi)"
   ]
  },
  {
   "cell_type": "markdown",
   "id": "c65609a8",
   "metadata": {},
   "source": [
    "## Resample with SMOTE and SMOTETomek, fit and predict a LogReg model and evaluate results"
   ]
  },
  {
   "cell_type": "code",
   "execution_count": 19,
   "id": "0ae9f8d3",
   "metadata": {
    "scrolled": true
   },
   "outputs": [
    {
     "name": "stdout",
     "output_type": "stream",
     "text": [
      "SMOTE \n",
      "\n"
     ]
    },
    {
     "name": "stderr",
     "output_type": "stream",
     "text": [
      "/Users/pazma/opt/anaconda3/lib/python3.8/site-packages/sklearn/linear_model/_logistic.py:814: ConvergenceWarning: lbfgs failed to converge (status=1):\n",
      "STOP: TOTAL NO. of ITERATIONS REACHED LIMIT.\n",
      "\n",
      "Increase the number of iterations (max_iter) or scale the data as shown in:\n",
      "    https://scikit-learn.org/stable/modules/preprocessing.html\n",
      "Please also refer to the documentation for alternative solver options:\n",
      "    https://scikit-learn.org/stable/modules/linear_model.html#logistic-regression\n",
      "  n_iter_i = _check_optimize_result(\n"
     ]
    },
    {
     "name": "stdout",
     "output_type": "stream",
     "text": [
      "Mean accuracy result of in-sample cross-validation: 0.7131710211871883\n",
      "\n",
      "\n",
      "              precision    recall  f1-score   support\n",
      "\n",
      "           1       0.66      0.66      0.66     29690\n",
      "           2       0.63      0.51      0.56     29690\n",
      "           3       0.61      0.62      0.62     29690\n",
      "           4       0.82      0.89      0.85     29690\n",
      "           5       0.72      0.80      0.76     29690\n",
      "           6       0.64      0.60      0.62     29690\n",
      "           7       0.87      0.89      0.88     29690\n",
      "\n",
      "    accuracy                           0.71    207830\n",
      "   macro avg       0.71      0.71      0.71    207830\n",
      "weighted avg       0.71      0.71      0.71    207830\n",
      "\n",
      "SMOTETomek \n",
      "\n"
     ]
    },
    {
     "name": "stderr",
     "output_type": "stream",
     "text": [
      "/Users/pazma/opt/anaconda3/lib/python3.8/site-packages/sklearn/linear_model/_logistic.py:814: ConvergenceWarning: lbfgs failed to converge (status=1):\n",
      "STOP: TOTAL NO. of ITERATIONS REACHED LIMIT.\n",
      "\n",
      "Increase the number of iterations (max_iter) or scale the data as shown in:\n",
      "    https://scikit-learn.org/stable/modules/preprocessing.html\n",
      "Please also refer to the documentation for alternative solver options:\n",
      "    https://scikit-learn.org/stable/modules/linear_model.html#logistic-regression\n",
      "  n_iter_i = _check_optimize_result(\n",
      "/Users/pazma/opt/anaconda3/lib/python3.8/site-packages/sklearn/linear_model/_logistic.py:814: ConvergenceWarning: lbfgs failed to converge (status=1):\n",
      "STOP: TOTAL NO. of ITERATIONS REACHED LIMIT.\n",
      "\n",
      "Increase the number of iterations (max_iter) or scale the data as shown in:\n",
      "    https://scikit-learn.org/stable/modules/preprocessing.html\n",
      "Please also refer to the documentation for alternative solver options:\n",
      "    https://scikit-learn.org/stable/modules/linear_model.html#logistic-regression\n",
      "  n_iter_i = _check_optimize_result(\n",
      "/Users/pazma/opt/anaconda3/lib/python3.8/site-packages/sklearn/linear_model/_logistic.py:814: ConvergenceWarning: lbfgs failed to converge (status=1):\n",
      "STOP: TOTAL NO. of ITERATIONS REACHED LIMIT.\n",
      "\n",
      "Increase the number of iterations (max_iter) or scale the data as shown in:\n",
      "    https://scikit-learn.org/stable/modules/preprocessing.html\n",
      "Please also refer to the documentation for alternative solver options:\n",
      "    https://scikit-learn.org/stable/modules/linear_model.html#logistic-regression\n",
      "  n_iter_i = _check_optimize_result(\n",
      "/Users/pazma/opt/anaconda3/lib/python3.8/site-packages/sklearn/linear_model/_logistic.py:814: ConvergenceWarning: lbfgs failed to converge (status=1):\n",
      "STOP: TOTAL NO. of ITERATIONS REACHED LIMIT.\n",
      "\n",
      "Increase the number of iterations (max_iter) or scale the data as shown in:\n",
      "    https://scikit-learn.org/stable/modules/preprocessing.html\n",
      "Please also refer to the documentation for alternative solver options:\n",
      "    https://scikit-learn.org/stable/modules/linear_model.html#logistic-regression\n",
      "  n_iter_i = _check_optimize_result(\n",
      "/Users/pazma/opt/anaconda3/lib/python3.8/site-packages/sklearn/linear_model/_logistic.py:814: ConvergenceWarning: lbfgs failed to converge (status=1):\n",
      "STOP: TOTAL NO. of ITERATIONS REACHED LIMIT.\n",
      "\n",
      "Increase the number of iterations (max_iter) or scale the data as shown in:\n",
      "    https://scikit-learn.org/stable/modules/preprocessing.html\n",
      "Please also refer to the documentation for alternative solver options:\n",
      "    https://scikit-learn.org/stable/modules/linear_model.html#logistic-regression\n",
      "  n_iter_i = _check_optimize_result(\n",
      "/Users/pazma/opt/anaconda3/lib/python3.8/site-packages/sklearn/linear_model/_logistic.py:814: ConvergenceWarning: lbfgs failed to converge (status=1):\n",
      "STOP: TOTAL NO. of ITERATIONS REACHED LIMIT.\n",
      "\n",
      "Increase the number of iterations (max_iter) or scale the data as shown in:\n",
      "    https://scikit-learn.org/stable/modules/preprocessing.html\n",
      "Please also refer to the documentation for alternative solver options:\n",
      "    https://scikit-learn.org/stable/modules/linear_model.html#logistic-regression\n",
      "  n_iter_i = _check_optimize_result(\n",
      "/Users/pazma/opt/anaconda3/lib/python3.8/site-packages/sklearn/linear_model/_logistic.py:814: ConvergenceWarning: lbfgs failed to converge (status=1):\n",
      "STOP: TOTAL NO. of ITERATIONS REACHED LIMIT.\n",
      "\n",
      "Increase the number of iterations (max_iter) or scale the data as shown in:\n",
      "    https://scikit-learn.org/stable/modules/preprocessing.html\n",
      "Please also refer to the documentation for alternative solver options:\n",
      "    https://scikit-learn.org/stable/modules/linear_model.html#logistic-regression\n",
      "  n_iter_i = _check_optimize_result(\n",
      "/Users/pazma/opt/anaconda3/lib/python3.8/site-packages/sklearn/linear_model/_logistic.py:814: ConvergenceWarning: lbfgs failed to converge (status=1):\n",
      "STOP: TOTAL NO. of ITERATIONS REACHED LIMIT.\n",
      "\n",
      "Increase the number of iterations (max_iter) or scale the data as shown in:\n",
      "    https://scikit-learn.org/stable/modules/preprocessing.html\n",
      "Please also refer to the documentation for alternative solver options:\n",
      "    https://scikit-learn.org/stable/modules/linear_model.html#logistic-regression\n",
      "  n_iter_i = _check_optimize_result(\n",
      "/Users/pazma/opt/anaconda3/lib/python3.8/site-packages/sklearn/linear_model/_logistic.py:814: ConvergenceWarning: lbfgs failed to converge (status=1):\n",
      "STOP: TOTAL NO. of ITERATIONS REACHED LIMIT.\n",
      "\n",
      "Increase the number of iterations (max_iter) or scale the data as shown in:\n",
      "    https://scikit-learn.org/stable/modules/preprocessing.html\n",
      "Please also refer to the documentation for alternative solver options:\n",
      "    https://scikit-learn.org/stable/modules/linear_model.html#logistic-regression\n",
      "  n_iter_i = _check_optimize_result(\n",
      "/Users/pazma/opt/anaconda3/lib/python3.8/site-packages/sklearn/linear_model/_logistic.py:814: ConvergenceWarning: lbfgs failed to converge (status=1):\n",
      "STOP: TOTAL NO. of ITERATIONS REACHED LIMIT.\n",
      "\n",
      "Increase the number of iterations (max_iter) or scale the data as shown in:\n",
      "    https://scikit-learn.org/stable/modules/preprocessing.html\n",
      "Please also refer to the documentation for alternative solver options:\n",
      "    https://scikit-learn.org/stable/modules/linear_model.html#logistic-regression\n",
      "  n_iter_i = _check_optimize_result(\n",
      "/Users/pazma/opt/anaconda3/lib/python3.8/site-packages/sklearn/linear_model/_logistic.py:814: ConvergenceWarning: lbfgs failed to converge (status=1):\n",
      "STOP: TOTAL NO. of ITERATIONS REACHED LIMIT.\n",
      "\n",
      "Increase the number of iterations (max_iter) or scale the data as shown in:\n",
      "    https://scikit-learn.org/stable/modules/preprocessing.html\n",
      "Please also refer to the documentation for alternative solver options:\n",
      "    https://scikit-learn.org/stable/modules/linear_model.html#logistic-regression\n",
      "  n_iter_i = _check_optimize_result(\n",
      "/Users/pazma/opt/anaconda3/lib/python3.8/site-packages/sklearn/linear_model/_logistic.py:814: ConvergenceWarning: lbfgs failed to converge (status=1):\n",
      "STOP: TOTAL NO. of ITERATIONS REACHED LIMIT.\n",
      "\n",
      "Increase the number of iterations (max_iter) or scale the data as shown in:\n",
      "    https://scikit-learn.org/stable/modules/preprocessing.html\n",
      "Please also refer to the documentation for alternative solver options:\n",
      "    https://scikit-learn.org/stable/modules/linear_model.html#logistic-regression\n",
      "  n_iter_i = _check_optimize_result(\n",
      "/Users/pazma/opt/anaconda3/lib/python3.8/site-packages/sklearn/linear_model/_logistic.py:814: ConvergenceWarning: lbfgs failed to converge (status=1):\n",
      "STOP: TOTAL NO. of ITERATIONS REACHED LIMIT.\n",
      "\n",
      "Increase the number of iterations (max_iter) or scale the data as shown in:\n",
      "    https://scikit-learn.org/stable/modules/preprocessing.html\n",
      "Please also refer to the documentation for alternative solver options:\n",
      "    https://scikit-learn.org/stable/modules/linear_model.html#logistic-regression\n",
      "  n_iter_i = _check_optimize_result(\n",
      "/Users/pazma/opt/anaconda3/lib/python3.8/site-packages/sklearn/linear_model/_logistic.py:814: ConvergenceWarning: lbfgs failed to converge (status=1):\n",
      "STOP: TOTAL NO. of ITERATIONS REACHED LIMIT.\n",
      "\n",
      "Increase the number of iterations (max_iter) or scale the data as shown in:\n",
      "    https://scikit-learn.org/stable/modules/preprocessing.html\n",
      "Please also refer to the documentation for alternative solver options:\n",
      "    https://scikit-learn.org/stable/modules/linear_model.html#logistic-regression\n",
      "  n_iter_i = _check_optimize_result(\n",
      "/Users/pazma/opt/anaconda3/lib/python3.8/site-packages/sklearn/linear_model/_logistic.py:814: ConvergenceWarning: lbfgs failed to converge (status=1):\n",
      "STOP: TOTAL NO. of ITERATIONS REACHED LIMIT.\n",
      "\n",
      "Increase the number of iterations (max_iter) or scale the data as shown in:\n",
      "    https://scikit-learn.org/stable/modules/preprocessing.html\n",
      "Please also refer to the documentation for alternative solver options:\n",
      "    https://scikit-learn.org/stable/modules/linear_model.html#logistic-regression\n",
      "  n_iter_i = _check_optimize_result(\n",
      "/Users/pazma/opt/anaconda3/lib/python3.8/site-packages/sklearn/linear_model/_logistic.py:814: ConvergenceWarning: lbfgs failed to converge (status=1):\n",
      "STOP: TOTAL NO. of ITERATIONS REACHED LIMIT.\n",
      "\n",
      "Increase the number of iterations (max_iter) or scale the data as shown in:\n",
      "    https://scikit-learn.org/stable/modules/preprocessing.html\n",
      "Please also refer to the documentation for alternative solver options:\n",
      "    https://scikit-learn.org/stable/modules/linear_model.html#logistic-regression\n",
      "  n_iter_i = _check_optimize_result(\n",
      "/Users/pazma/opt/anaconda3/lib/python3.8/site-packages/sklearn/linear_model/_logistic.py:814: ConvergenceWarning: lbfgs failed to converge (status=1):\n",
      "STOP: TOTAL NO. of ITERATIONS REACHED LIMIT.\n",
      "\n",
      "Increase the number of iterations (max_iter) or scale the data as shown in:\n",
      "    https://scikit-learn.org/stable/modules/preprocessing.html\n",
      "Please also refer to the documentation for alternative solver options:\n",
      "    https://scikit-learn.org/stable/modules/linear_model.html#logistic-regression\n",
      "  n_iter_i = _check_optimize_result(\n",
      "/Users/pazma/opt/anaconda3/lib/python3.8/site-packages/sklearn/linear_model/_logistic.py:814: ConvergenceWarning: lbfgs failed to converge (status=1):\n",
      "STOP: TOTAL NO. of ITERATIONS REACHED LIMIT.\n",
      "\n",
      "Increase the number of iterations (max_iter) or scale the data as shown in:\n",
      "    https://scikit-learn.org/stable/modules/preprocessing.html\n",
      "Please also refer to the documentation for alternative solver options:\n",
      "    https://scikit-learn.org/stable/modules/linear_model.html#logistic-regression\n",
      "  n_iter_i = _check_optimize_result(\n",
      "/Users/pazma/opt/anaconda3/lib/python3.8/site-packages/sklearn/linear_model/_logistic.py:814: ConvergenceWarning: lbfgs failed to converge (status=1):\n",
      "STOP: TOTAL NO. of ITERATIONS REACHED LIMIT.\n",
      "\n",
      "Increase the number of iterations (max_iter) or scale the data as shown in:\n",
      "    https://scikit-learn.org/stable/modules/preprocessing.html\n",
      "Please also refer to the documentation for alternative solver options:\n",
      "    https://scikit-learn.org/stable/modules/linear_model.html#logistic-regression\n",
      "  n_iter_i = _check_optimize_result(\n"
     ]
    },
    {
     "name": "stderr",
     "output_type": "stream",
     "text": [
      "/Users/pazma/opt/anaconda3/lib/python3.8/site-packages/sklearn/linear_model/_logistic.py:814: ConvergenceWarning: lbfgs failed to converge (status=1):\n",
      "STOP: TOTAL NO. of ITERATIONS REACHED LIMIT.\n",
      "\n",
      "Increase the number of iterations (max_iter) or scale the data as shown in:\n",
      "    https://scikit-learn.org/stable/modules/preprocessing.html\n",
      "Please also refer to the documentation for alternative solver options:\n",
      "    https://scikit-learn.org/stable/modules/linear_model.html#logistic-regression\n",
      "  n_iter_i = _check_optimize_result(\n",
      "/Users/pazma/opt/anaconda3/lib/python3.8/site-packages/sklearn/linear_model/_logistic.py:814: ConvergenceWarning: lbfgs failed to converge (status=1):\n",
      "STOP: TOTAL NO. of ITERATIONS REACHED LIMIT.\n",
      "\n",
      "Increase the number of iterations (max_iter) or scale the data as shown in:\n",
      "    https://scikit-learn.org/stable/modules/preprocessing.html\n",
      "Please also refer to the documentation for alternative solver options:\n",
      "    https://scikit-learn.org/stable/modules/linear_model.html#logistic-regression\n",
      "  n_iter_i = _check_optimize_result(\n",
      "/Users/pazma/opt/anaconda3/lib/python3.8/site-packages/sklearn/linear_model/_logistic.py:814: ConvergenceWarning: lbfgs failed to converge (status=1):\n",
      "STOP: TOTAL NO. of ITERATIONS REACHED LIMIT.\n",
      "\n",
      "Increase the number of iterations (max_iter) or scale the data as shown in:\n",
      "    https://scikit-learn.org/stable/modules/preprocessing.html\n",
      "Please also refer to the documentation for alternative solver options:\n",
      "    https://scikit-learn.org/stable/modules/linear_model.html#logistic-regression\n",
      "  n_iter_i = _check_optimize_result(\n",
      "/Users/pazma/opt/anaconda3/lib/python3.8/site-packages/sklearn/linear_model/_logistic.py:814: ConvergenceWarning: lbfgs failed to converge (status=1):\n",
      "STOP: TOTAL NO. of ITERATIONS REACHED LIMIT.\n",
      "\n",
      "Increase the number of iterations (max_iter) or scale the data as shown in:\n",
      "    https://scikit-learn.org/stable/modules/preprocessing.html\n",
      "Please also refer to the documentation for alternative solver options:\n",
      "    https://scikit-learn.org/stable/modules/linear_model.html#logistic-regression\n",
      "  n_iter_i = _check_optimize_result(\n",
      "/Users/pazma/opt/anaconda3/lib/python3.8/site-packages/sklearn/linear_model/_logistic.py:814: ConvergenceWarning: lbfgs failed to converge (status=1):\n",
      "STOP: TOTAL NO. of ITERATIONS REACHED LIMIT.\n",
      "\n",
      "Increase the number of iterations (max_iter) or scale the data as shown in:\n",
      "    https://scikit-learn.org/stable/modules/preprocessing.html\n",
      "Please also refer to the documentation for alternative solver options:\n",
      "    https://scikit-learn.org/stable/modules/linear_model.html#logistic-regression\n",
      "  n_iter_i = _check_optimize_result(\n",
      "/Users/pazma/opt/anaconda3/lib/python3.8/site-packages/sklearn/linear_model/_logistic.py:814: ConvergenceWarning: lbfgs failed to converge (status=1):\n",
      "STOP: TOTAL NO. of ITERATIONS REACHED LIMIT.\n",
      "\n",
      "Increase the number of iterations (max_iter) or scale the data as shown in:\n",
      "    https://scikit-learn.org/stable/modules/preprocessing.html\n",
      "Please also refer to the documentation for alternative solver options:\n",
      "    https://scikit-learn.org/stable/modules/linear_model.html#logistic-regression\n",
      "  n_iter_i = _check_optimize_result(\n",
      "/Users/pazma/opt/anaconda3/lib/python3.8/site-packages/sklearn/linear_model/_logistic.py:814: ConvergenceWarning: lbfgs failed to converge (status=1):\n",
      "STOP: TOTAL NO. of ITERATIONS REACHED LIMIT.\n",
      "\n",
      "Increase the number of iterations (max_iter) or scale the data as shown in:\n",
      "    https://scikit-learn.org/stable/modules/preprocessing.html\n",
      "Please also refer to the documentation for alternative solver options:\n",
      "    https://scikit-learn.org/stable/modules/linear_model.html#logistic-regression\n",
      "  n_iter_i = _check_optimize_result(\n",
      "/Users/pazma/opt/anaconda3/lib/python3.8/site-packages/sklearn/linear_model/_logistic.py:814: ConvergenceWarning: lbfgs failed to converge (status=1):\n",
      "STOP: TOTAL NO. of ITERATIONS REACHED LIMIT.\n",
      "\n",
      "Increase the number of iterations (max_iter) or scale the data as shown in:\n",
      "    https://scikit-learn.org/stable/modules/preprocessing.html\n",
      "Please also refer to the documentation for alternative solver options:\n",
      "    https://scikit-learn.org/stable/modules/linear_model.html#logistic-regression\n",
      "  n_iter_i = _check_optimize_result(\n",
      "/Users/pazma/opt/anaconda3/lib/python3.8/site-packages/sklearn/linear_model/_logistic.py:814: ConvergenceWarning: lbfgs failed to converge (status=1):\n",
      "STOP: TOTAL NO. of ITERATIONS REACHED LIMIT.\n",
      "\n",
      "Increase the number of iterations (max_iter) or scale the data as shown in:\n",
      "    https://scikit-learn.org/stable/modules/preprocessing.html\n",
      "Please also refer to the documentation for alternative solver options:\n",
      "    https://scikit-learn.org/stable/modules/linear_model.html#logistic-regression\n",
      "  n_iter_i = _check_optimize_result(\n",
      "/Users/pazma/opt/anaconda3/lib/python3.8/site-packages/sklearn/linear_model/_logistic.py:814: ConvergenceWarning: lbfgs failed to converge (status=1):\n",
      "STOP: TOTAL NO. of ITERATIONS REACHED LIMIT.\n",
      "\n",
      "Increase the number of iterations (max_iter) or scale the data as shown in:\n",
      "    https://scikit-learn.org/stable/modules/preprocessing.html\n",
      "Please also refer to the documentation for alternative solver options:\n",
      "    https://scikit-learn.org/stable/modules/linear_model.html#logistic-regression\n",
      "  n_iter_i = _check_optimize_result(\n",
      "/Users/pazma/opt/anaconda3/lib/python3.8/site-packages/sklearn/linear_model/_logistic.py:814: ConvergenceWarning: lbfgs failed to converge (status=1):\n",
      "STOP: TOTAL NO. of ITERATIONS REACHED LIMIT.\n",
      "\n",
      "Increase the number of iterations (max_iter) or scale the data as shown in:\n",
      "    https://scikit-learn.org/stable/modules/preprocessing.html\n",
      "Please also refer to the documentation for alternative solver options:\n",
      "    https://scikit-learn.org/stable/modules/linear_model.html#logistic-regression\n",
      "  n_iter_i = _check_optimize_result(\n",
      "/Users/pazma/opt/anaconda3/lib/python3.8/site-packages/sklearn/linear_model/_logistic.py:814: ConvergenceWarning: lbfgs failed to converge (status=1):\n",
      "STOP: TOTAL NO. of ITERATIONS REACHED LIMIT.\n",
      "\n",
      "Increase the number of iterations (max_iter) or scale the data as shown in:\n",
      "    https://scikit-learn.org/stable/modules/preprocessing.html\n",
      "Please also refer to the documentation for alternative solver options:\n",
      "    https://scikit-learn.org/stable/modules/linear_model.html#logistic-regression\n",
      "  n_iter_i = _check_optimize_result(\n"
     ]
    },
    {
     "name": "stdout",
     "output_type": "stream",
     "text": [
      "Mean accuracy result of in-sample cross-validation: 0.7149639527734813\n",
      "\n",
      "\n",
      "              precision    recall  f1-score   support\n",
      "\n",
      "           1       0.66      0.68      0.67     29009\n",
      "           2       0.65      0.50      0.57     28998\n",
      "           3       0.62      0.60      0.61     29677\n",
      "           4       0.82      0.89      0.86     29690\n",
      "           5       0.72      0.82      0.77     29678\n",
      "           6       0.63      0.63      0.63     29680\n",
      "           7       0.87      0.88      0.88     29684\n",
      "\n",
      "    accuracy                           0.72    206416\n",
      "   macro avg       0.71      0.72      0.71    206416\n",
      "weighted avg       0.71      0.72      0.71    206416\n",
      "\n"
     ]
    }
   ],
   "source": [
    "\n",
    "from imblearn.over_sampling import SMOTE\n",
    "from matplotlib import pyplot\n",
    "\n",
    "model=LogisticRegression(multi_class='multinomial', \n",
    "                        penalty=\"l2\", C=100, solver='lbfgs')\n",
    "\n",
    "# SMOTE\n",
    "print(\"SMOTE \\n\")\n",
    "smote = SMOTE(random_state=42)\n",
    "X_smote_multi, y_smote_multi = smote.fit_resample(X_multi_scaled, y_multi)\n",
    "smote_model=predict_evaluate_multiclass(X_smote_multi, y_smote_multi, model )\n",
    "\n",
    "# SMOTETomek\n",
    "print(\"SMOTETomek \\n\")\n",
    "smotetomek = SMOTETomek(random_state=42)\n",
    "X_smtl_multi, y_smtl_multi = smotetomek.fit_resample(X_multi_scaled, y_multi)\n",
    "smotetomek_model=predict_evaluate_multiclass(X_smtl_multi, y_smtl_multi, model )\n"
   ]
  },
  {
   "cell_type": "markdown",
   "id": "5efa0ffb",
   "metadata": {},
   "source": [
    "## Assign individual weights to different classes"
   ]
  },
  {
   "cell_type": "code",
   "execution_count": 20,
   "id": "7c339fdf",
   "metadata": {},
   "outputs": [
    {
     "name": "stderr",
     "output_type": "stream",
     "text": [
      "/Users/pazma/opt/anaconda3/lib/python3.8/site-packages/sklearn/linear_model/_logistic.py:814: ConvergenceWarning: lbfgs failed to converge (status=1):\n",
      "STOP: TOTAL NO. of ITERATIONS REACHED LIMIT.\n",
      "\n",
      "Increase the number of iterations (max_iter) or scale the data as shown in:\n",
      "    https://scikit-learn.org/stable/modules/preprocessing.html\n",
      "Please also refer to the documentation for alternative solver options:\n",
      "    https://scikit-learn.org/stable/modules/linear_model.html#logistic-regression\n",
      "  n_iter_i = _check_optimize_result(\n"
     ]
    },
    {
     "name": "stdout",
     "output_type": "stream",
     "text": [
      "Mean accuracy result of in-sample cross-validation: 0.7002699503709418\n",
      "\n",
      "\n",
      "              precision    recall  f1-score   support\n",
      "\n",
      "           1       0.77      0.51      0.61     22199\n",
      "           2       0.69      0.89      0.78     29690\n",
      "           3       0.66      0.82      0.73      3802\n",
      "           4       0.51      0.35      0.41       295\n",
      "           5       0.26      0.01      0.02       992\n",
      "           6       0.48      0.24      0.32      1865\n",
      "           7       0.67      0.67      0.67      2163\n",
      "\n",
      "    accuracy                           0.70     61006\n",
      "   macro avg       0.58      0.50      0.51     61006\n",
      "weighted avg       0.70      0.70      0.68     61006\n",
      "\n"
     ]
    }
   ],
   "source": [
    "# assign individual weights\n",
    "weights = {1:1.0,  2:2.0, 3:2.0, 4:2.0, 5:2.0, 6:2.0, 7:2.0}\n",
    "\n",
    "# define base model\n",
    "model = LogisticRegression(multi_class='multinomial', class_weight=weights,\n",
    "                                  penalty=\"l2\", C=100, solver='lbfgs')\n",
    "\n",
    "# evaluate\n",
    "weights_model=predict_evaluate_multiclass(X_multi_scaled, y_multi, model )"
   ]
  },
  {
   "cell_type": "markdown",
   "id": "cc63ca04",
   "metadata": {},
   "source": [
    "## Penalize Algorithms (Cost-Sensitive Training)\n"
   ]
  },
  {
   "cell_type": "markdown",
   "id": "17ad4723",
   "metadata": {},
   "source": [
    "The next tactic is to use penalized learning algorithms that increase the cost of classification mistakes on the minority class.\n",
    "\n",
    "A popular algorithm for this technique is Penalized-SVM.\n",
    "\n",
    "During training, we can use the argument `class_weight='balanced'` to penalize mistakes on the minority class by an amount proportional to how under-represented it is.\n",
    "\n",
    "We also want to include the argument `probability=True` if we want to enable probability estimates for SVM algorithms.\n",
    "\n",
    "Let’s train a model using Penalized-SVM on the original imbalanced dataset:"
   ]
  },
  {
   "cell_type": "code",
   "execution_count": null,
   "id": "3c683e88",
   "metadata": {},
   "outputs": [
    {
     "name": "stdout",
     "output_type": "stream",
     "text": [
      "Accuracy score: 0.6442153230829755\n"
     ]
    }
   ],
   "source": [
    "#### This part of code, fitting the SVC model takes a very long time to run that is why only the accuracy score is printed out\n",
    "\n",
    "# load library\n",
    "from sklearn.svm import SVC\n",
    "\n",
    "# we can add class_weight='balanced' to add panalize mistake\n",
    "svc_model = SVC(class_weight='balanced', probability=True)\n",
    "\n",
    "svc_model.fit(X_multi_scaled, y_multi)\n",
    "\n",
    "svc_predict = svc_model.predict(X_multi_scaled)# check performance\n",
    "\n",
    "print('Accuracy score:',accuracy_score(y_multi, svc_predict))\n",
    "#print('F1 score:',f1_score(y_multi, svc_predict, average=\"\"))\n",
    "\n",
    "\n",
    "#predict_evaluate_multiclass(X_multi_scaled, y_multi, svc_model )\n",
    "#confusion_matrix_()"
   ]
  },
  {
   "cell_type": "markdown",
   "id": "1c32f548",
   "metadata": {},
   "source": [
    "## Change the algorithm: Apply  `DecisionTree()` and `RandomForest()` model \n",
    "\n",
    "Decision trees frequently perform well on imbalanced data, especially RandomForest algorithms."
   ]
  },
  {
   "cell_type": "code",
   "execution_count": 9,
   "id": "36699f81",
   "metadata": {},
   "outputs": [],
   "source": [
    "class_labels=[1,2,3,4,5,6,7]"
   ]
  },
  {
   "cell_type": "code",
   "execution_count": 10,
   "id": "11131b5d",
   "metadata": {},
   "outputs": [
    {
     "name": "stdout",
     "output_type": "stream",
     "text": [
      "Accuracy score: 0.6777530079008622\n",
      "Mean accuracy result of in-sample cross-validation: 0.6708738498298971\n",
      "\n",
      "\n",
      "              precision    recall  f1-score   support\n",
      "\n",
      "           1       0.65      0.67      0.66     22199\n",
      "           2       0.71      0.79      0.75     29690\n",
      "           3       0.67      0.69      0.68      3802\n",
      "           4       0.00      0.00      0.00       295\n",
      "           5       0.00      0.00      0.00       992\n",
      "           6       0.45      0.23      0.30      1865\n",
      "           7       0.00      0.00      0.00      2163\n",
      "\n",
      "    accuracy                           0.68     61006\n",
      "   macro avg       0.35      0.34      0.34     61006\n",
      "weighted avg       0.63      0.68      0.65     61006\n",
      "\n"
     ]
    },
    {
     "name": "stderr",
     "output_type": "stream",
     "text": [
      "/Users/pazma/opt/anaconda3/lib/python3.8/site-packages/sklearn/metrics/_classification.py:1308: UndefinedMetricWarning: Precision and F-score are ill-defined and being set to 0.0 in labels with no predicted samples. Use `zero_division` parameter to control this behavior.\n",
      "  _warn_prf(average, modifier, msg_start, len(result))\n",
      "/Users/pazma/opt/anaconda3/lib/python3.8/site-packages/sklearn/metrics/_classification.py:1308: UndefinedMetricWarning: Precision and F-score are ill-defined and being set to 0.0 in labels with no predicted samples. Use `zero_division` parameter to control this behavior.\n",
      "  _warn_prf(average, modifier, msg_start, len(result))\n",
      "/Users/pazma/opt/anaconda3/lib/python3.8/site-packages/sklearn/metrics/_classification.py:1308: UndefinedMetricWarning: Precision and F-score are ill-defined and being set to 0.0 in labels with no predicted samples. Use `zero_division` parameter to control this behavior.\n",
      "  _warn_prf(average, modifier, msg_start, len(result))\n"
     ]
    },
    {
     "data": {
      "image/png": "[encoded data removed]",
      "text/plain": [
       "<Figure size 432x288 with 2 Axes>"
      ]
     },
     "metadata": {},
     "output_type": "display_data"
    },
    {
     "name": "stdout",
     "output_type": "stream",
     "text": [
      "Confusion matrix of in-sample cross-validation:\n"
     ]
    },
    {
     "data": {
      "image/png": "[encoded data removed]",
      "text/plain": [
       "<Figure size 432x288 with 2 Axes>"
      ]
     },
     "metadata": {},
     "output_type": "display_data"
    }
   ],
   "source": [
    "#### DecisionTree ####\n",
    "# load library\n",
    "from sklearn.tree import DecisionTreeClassifier\n",
    "\n",
    "# define model\n",
    "dtc = DecisionTreeClassifier(criterion='entropy',max_depth=3, random_state=42)\n",
    "\n",
    "# fit model\n",
    "dtc.fit(X_multi_scaled, y_multi)\n",
    "\n",
    "# predict\n",
    "dtc_predict = dtc.predict(X_multi_scaled)\n",
    "\n",
    "# evaluate performance \n",
    "print('Accuracy score:',accuracy_score(y_multi, dtc_predict))\n",
    "predict_evaluate_multiclass(X_multi_scaled, y_multi, dtc )\n",
    "confusion_matrix_(X_multi_scaled,y_multi, dtc_predict,dtc, class_labels)\n"
   ]
  },
  {
   "cell_type": "code",
   "execution_count": 11,
   "id": "3ba384a2",
   "metadata": {},
   "outputs": [
    {
     "name": "stdout",
     "output_type": "stream",
     "text": [
      "Accuracy score: 1.0\n",
      "Mean accuracy result of in-sample cross-validation: 0.8748811470947822\n",
      "\n",
      "\n",
      "              precision    recall  f1-score   support\n",
      "\n",
      "           1       1.00      1.00      1.00     22199\n",
      "           2       1.00      1.00      1.00     29690\n",
      "           3       1.00      1.00      1.00      3802\n",
      "           4       1.00      1.00      1.00       295\n",
      "           5       1.00      1.00      1.00       992\n",
      "           6       1.00      1.00      1.00      1865\n",
      "           7       1.00      1.00      1.00      2163\n",
      "\n",
      "    accuracy                           1.00     61006\n",
      "   macro avg       1.00      1.00      1.00     61006\n",
      "weighted avg       1.00      1.00      1.00     61006\n",
      "\n"
     ]
    },
    {
     "data": {
      "image/png": "[encoded data removed]",
      "text/plain": [
       "<Figure size 432x288 with 2 Axes>"
      ]
     },
     "metadata": {},
     "output_type": "display_data"
    },
    {
     "name": "stdout",
     "output_type": "stream",
     "text": [
      "Confusion matrix of in-sample cross-validation:\n"
     ]
    },
    {
     "data": {
      "image/png": "[encoded data removed]",
      "text/plain": [
       "<Figure size 432x288 with 2 Axes>"
      ]
     },
     "metadata": {},
     "output_type": "display_data"
    }
   ],
   "source": [
    "#### RandomForest ####\n",
    "# load library\n",
    "from sklearn.ensemble import RandomForestClassifier\n",
    "\n",
    "rfc = RandomForestClassifier()\n",
    "\n",
    "# fit the predictor and target\n",
    "rfc.fit(X_multi_scaled, y_multi)\n",
    "\n",
    "# predict\n",
    "rfc_predict = rfc.predict(X_multi_scaled)\n",
    "\n",
    "# evaluate\n",
    "print('Accuracy score:',accuracy_score(y_multi, rfc_predict))\n",
    "#print('F1 score:',f1_score(y_multi, rfc_predict))\n",
    "\n",
    "predict_evaluate_multiclass(X_multi_scaled, y_multi, rfc )\n",
    "confusion_matrix_(X_multi_scaled,y_multi, rfc_predict, rfc, class_labels)"
   ]
  },
  {
   "cell_type": "markdown",
   "id": "69aac611",
   "metadata": {},
   "source": [
    "As expected, RandomForest perfomed the best. Its Accuracy is 1.0, which I think comes from overfitting the data, but looking at the Accuracy score of the in-sample cross-validation (0.89) we can say, that the model is rather stable and performs well. "
   ]
  },
  {
   "cell_type": "code",
   "execution_count": 20,
   "id": "a5423130",
   "metadata": {},
   "outputs": [],
   "source": [
    "# Produce .csv for kaggle testing \n",
    "rfc_hat = rfc.predict(X_test_multi_scaled)\n",
    "test_predictions_submit = pd.DataFrame({\"Index\": raw_test[\"Index\"], \"Cover_Type\": rfc_hat})\n",
    "test_predictions_submit.to_csv(\"test_LogReg_predictions_multiclass_submit.csv\", index = False)"
   ]
  }
 ],
 "metadata": {
  "kernelspec": {
   "display_name": "Python 3 (ipykernel)",
   "language": "python",
   "name": "python3"
  },
  "language_info": {
   "codemirror_mode": {
    "name": "ipython",
    "version": 3
   },
   "file_extension": ".py",
   "mimetype": "text/x-python",
   "name": "python",
   "nbconvert_exporter": "python",
   "pygments_lexer": "ipython3",
   "version": "3.8.8"
  }
 },
 "nbformat": 4,
 "nbformat_minor": 5
}
